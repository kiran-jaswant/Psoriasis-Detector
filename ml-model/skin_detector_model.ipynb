{
 "cells": [
  {
   "cell_type": "markdown",
   "id": "4ccb987a-2458-4983-a596-485bd8275892",
   "metadata": {},
   "source": [
    "# Import necessary libraries"
   ]
  },
  {
   "cell_type": "code",
   "execution_count": 3,
   "id": "f40cf04c-a22c-4082-bcd7-3a7ba1ed6beb",
   "metadata": {},
   "outputs": [],
   "source": [
    "import os\n",
    "import numpy as np\n",
    "import matplotlib.pyplot as plt\n",
    "from tensorflow.keras.preprocessing.image import ImageDataGenerator\n",
    "from tensorflow.keras.models import Sequential\n",
    "from tensorflow.keras.layers import Conv2D, MaxPooling2D, Flatten, Dense, Dropout\n",
    "from tensorflow.keras.optimizers import Adam\n"
   ]
  },
  {
   "cell_type": "markdown",
   "id": "0000add7-2032-4a93-b043-cc0c2b64609b",
   "metadata": {},
   "source": [
    "# Set up directories"
   ]
  },
  {
   "cell_type": "code",
   "execution_count": 8,
   "id": "1dd0100f-4568-406b-a9c7-acaed938551d",
   "metadata": {},
   "outputs": [],
   "source": [
    "dataset_path = 'skin-detector-dataset'\n",
    "image_size = (128, 128)\n",
    "batch_size = 32\n",
    "\n"
   ]
  },
  {
   "cell_type": "markdown",
   "id": "33f3ae4b-fa07-4bdd-bdd9-396ea4485bb7",
   "metadata": {},
   "source": [
    "# Prepare data with ImageDataGenerator"
   ]
  },
  {
   "cell_type": "code",
   "execution_count": 9,
   "id": "9272ab8c-a917-4b4a-b612-27e9633f3857",
   "metadata": {},
   "outputs": [
    {
     "name": "stdout",
     "output_type": "stream",
     "text": [
      "Found 3036 images belonging to 3 classes.\n",
      "Found 758 images belonging to 3 classes.\n"
     ]
    }
   ],
   "source": [
    "datagen = ImageDataGenerator(\n",
    "    rescale=1./255,\n",
    "    validation_split=0.2\n",
    ")\n",
    "\n",
    "train_generator = datagen.flow_from_directory(\n",
    "    dataset_path,\n",
    "    target_size=image_size,\n",
    "    batch_size=batch_size,\n",
    "    class_mode='categorical',\n",
    "    subset='training'\n",
    ")\n",
    "\n",
    "val_generator = datagen.flow_from_directory(\n",
    "    dataset_path,\n",
    "    target_size=image_size,\n",
    "    batch_size=batch_size,\n",
    "    class_mode='categorical',\n",
    "    subset='validation'\n",
    ")\n"
   ]
  },
  {
   "cell_type": "markdown",
   "id": "ccde5d8e-c24c-4cc4-b468-838d49a89b36",
   "metadata": {},
   "source": [
    "# Build the CNN model"
   ]
  },
  {
   "cell_type": "code",
   "execution_count": 10,
   "id": "287e4cf3-f944-4954-9305-de512c4994b7",
   "metadata": {},
   "outputs": [
    {
     "name": "stderr",
     "output_type": "stream",
     "text": [
      "C:\\Users\\DELL\\AppData\\Roaming\\Python\\Python312\\site-packages\\keras\\src\\layers\\convolutional\\base_conv.py:107: UserWarning: Do not pass an `input_shape`/`input_dim` argument to a layer. When using Sequential models, prefer using an `Input(shape)` object as the first layer in the model instead.\n",
      "  super().__init__(activity_regularizer=activity_regularizer, **kwargs)\n"
     ]
    }
   ],
   "source": [
    "model = Sequential([\n",
    "    Conv2D(32, (3, 3), activation='relu', input_shape=(128, 128, 3)),\n",
    "    MaxPooling2D(2, 2),\n",
    "    \n",
    "    Conv2D(64, (3, 3), activation='relu'),\n",
    "    MaxPooling2D(2, 2),\n",
    "    \n",
    "    Conv2D(128, (3, 3), activation='relu'),\n",
    "    MaxPooling2D(2, 2),\n",
    "    \n",
    "    Flatten(),\n",
    "    Dense(128, activation='relu'),\n",
    "    Dropout(0.5),\n",
    "    Dense(3, activation='softmax')  # 3 classes: normal, psoriasis, invalid\n",
    "])\n"
   ]
  },
  {
   "cell_type": "markdown",
   "id": "d8741561-f427-48f4-844e-e0b6b8b1d1f5",
   "metadata": {},
   "source": [
    "# Compile the model"
   ]
  },
  {
   "cell_type": "code",
   "execution_count": 11,
   "id": "fbb80af4-be17-40e9-87f8-d6bd35323ed8",
   "metadata": {},
   "outputs": [],
   "source": [
    "model.compile(\n",
    "    loss='categorical_crossentropy',\n",
    "    optimizer=Adam(),\n",
    "    metrics=['accuracy']\n",
    ")\n"
   ]
  },
  {
   "cell_type": "markdown",
   "id": "391f32f3-c648-4b70-9df4-d7235a8e8d8a",
   "metadata": {},
   "source": [
    "#  Train the model"
   ]
  },
  {
   "cell_type": "code",
   "execution_count": 12,
   "id": "05667fca-5906-495e-a33f-b7423c1182c4",
   "metadata": {},
   "outputs": [
    {
     "name": "stderr",
     "output_type": "stream",
     "text": [
      "C:\\Users\\DELL\\AppData\\Roaming\\Python\\Python312\\site-packages\\keras\\src\\trainers\\data_adapters\\py_dataset_adapter.py:121: UserWarning: Your `PyDataset` class should call `super().__init__(**kwargs)` in its constructor. `**kwargs` can include `workers`, `use_multiprocessing`, `max_queue_size`. Do not pass these arguments to `fit()`, as they will be ignored.\n",
      "  self._warn_if_super_not_called()\n"
     ]
    },
    {
     "name": "stdout",
     "output_type": "stream",
     "text": [
      "Epoch 1/10\n",
      "\u001b[1m95/95\u001b[0m \u001b[32m━━━━━━━━━━━━━━━━━━━━\u001b[0m\u001b[37m\u001b[0m \u001b[1m135s\u001b[0m 1s/step - accuracy: 0.5957 - loss: 0.8748 - val_accuracy: 0.8905 - val_loss: 0.3545\n",
      "Epoch 2/10\n",
      "\u001b[1m95/95\u001b[0m \u001b[32m━━━━━━━━━━━━━━━━━━━━\u001b[0m\u001b[37m\u001b[0m \u001b[1m58s\u001b[0m 612ms/step - accuracy: 0.8629 - loss: 0.3715 - val_accuracy: 0.9129 - val_loss: 0.2665\n",
      "Epoch 3/10\n",
      "\u001b[1m95/95\u001b[0m \u001b[32m━━━━━━━━━━━━━━━━━━━━\u001b[0m\u001b[37m\u001b[0m \u001b[1m58s\u001b[0m 615ms/step - accuracy: 0.9101 - loss: 0.2560 - val_accuracy: 0.9367 - val_loss: 0.1879\n",
      "Epoch 4/10\n",
      "\u001b[1m95/95\u001b[0m \u001b[32m━━━━━━━━━━━━━━━━━━━━\u001b[0m\u001b[37m\u001b[0m \u001b[1m58s\u001b[0m 612ms/step - accuracy: 0.9297 - loss: 0.2217 - val_accuracy: 0.9182 - val_loss: 0.2081\n",
      "Epoch 5/10\n",
      "\u001b[1m95/95\u001b[0m \u001b[32m━━━━━━━━━━━━━━━━━━━━\u001b[0m\u001b[37m\u001b[0m \u001b[1m61s\u001b[0m 638ms/step - accuracy: 0.9449 - loss: 0.1691 - val_accuracy: 0.9512 - val_loss: 0.1360\n",
      "Epoch 6/10\n",
      "\u001b[1m95/95\u001b[0m \u001b[32m━━━━━━━━━━━━━━━━━━━━\u001b[0m\u001b[37m\u001b[0m \u001b[1m61s\u001b[0m 641ms/step - accuracy: 0.9639 - loss: 0.1128 - val_accuracy: 0.9406 - val_loss: 0.1900\n",
      "Epoch 7/10\n",
      "\u001b[1m95/95\u001b[0m \u001b[32m━━━━━━━━━━━━━━━━━━━━\u001b[0m\u001b[37m\u001b[0m \u001b[1m57s\u001b[0m 600ms/step - accuracy: 0.9612 - loss: 0.1069 - val_accuracy: 0.9512 - val_loss: 0.1303\n",
      "Epoch 8/10\n",
      "\u001b[1m95/95\u001b[0m \u001b[32m━━━━━━━━━━━━━━━━━━━━\u001b[0m\u001b[37m\u001b[0m \u001b[1m58s\u001b[0m 607ms/step - accuracy: 0.9698 - loss: 0.0945 - val_accuracy: 0.9591 - val_loss: 0.1095\n",
      "Epoch 9/10\n",
      "\u001b[1m95/95\u001b[0m \u001b[32m━━━━━━━━━━━━━━━━━━━━\u001b[0m\u001b[37m\u001b[0m \u001b[1m57s\u001b[0m 603ms/step - accuracy: 0.9741 - loss: 0.0738 - val_accuracy: 0.9208 - val_loss: 0.2520\n",
      "Epoch 10/10\n",
      "\u001b[1m95/95\u001b[0m \u001b[32m━━━━━━━━━━━━━━━━━━━━\u001b[0m\u001b[37m\u001b[0m \u001b[1m57s\u001b[0m 603ms/step - accuracy: 0.9741 - loss: 0.0702 - val_accuracy: 0.9551 - val_loss: 0.1393\n"
     ]
    }
   ],
   "source": [
    "history = model.fit(\n",
    "    train_generator,\n",
    "    epochs=10,\n",
    "    validation_data=val_generator\n",
    ")\n"
   ]
  },
  {
   "cell_type": "markdown",
   "id": "bc5fa3a7-98cf-4405-9237-899745ff5836",
   "metadata": {},
   "source": [
    "# Save the model"
   ]
  },
  {
   "cell_type": "code",
   "execution_count": 13,
   "id": "a179287b-6f4b-47df-9906-05e5887542c1",
   "metadata": {},
   "outputs": [
    {
     "name": "stderr",
     "output_type": "stream",
     "text": [
      "WARNING:absl:You are saving your model as an HDF5 file via `model.save()` or `keras.saving.save_model(model)`. This file format is considered legacy. We recommend using instead the native Keras format, e.g. `model.save('my_model.keras')` or `keras.saving.save_model(model, 'my_model.keras')`. \n"
     ]
    }
   ],
   "source": [
    "model.save('skin_detector_model.h5')\n"
   ]
  },
  {
   "cell_type": "code",
   "execution_count": null,
   "id": "f7981519-e420-4460-b25c-76ab76b51a75",
   "metadata": {},
   "outputs": [],
   "source": []
  }
 ],
 "metadata": {
  "kernelspec": {
   "display_name": "Python 3 (ipykernel)",
   "language": "python",
   "name": "python3"
  },
  "language_info": {
   "codemirror_mode": {
    "name": "ipython",
    "version": 3
   },
   "file_extension": ".py",
   "mimetype": "text/x-python",
   "name": "python",
   "nbconvert_exporter": "python",
   "pygments_lexer": "ipython3",
   "version": "3.12.7"
  }
 },
 "nbformat": 4,
 "nbformat_minor": 5
}
